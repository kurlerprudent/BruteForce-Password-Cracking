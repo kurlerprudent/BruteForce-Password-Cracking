{
 "cells": [
  {
   "cell_type": "markdown",
   "id": "fc90eacc",
   "metadata": {
    "slideshow": {
     "slide_type": "slide"
    }
   },
   "source": [
    "# GROUP-2\n",
    "\n"
   ]
  },
  {
   "cell_type": "markdown",
   "id": "bc8bca52",
   "metadata": {
    "slideshow": {
     "slide_type": "slide"
    }
   },
   "source": [
    " - 1.Nyarko Rudolf-11297285\n",
    " - 2.Mensah Erskine - 11293368\n",
    " - 3.Jacob Kofi Ababio Agyemang-Prempeh- 11136489\n",
    " - 4.Johnson Saka - 11037486\n",
    " - 5.Kuuku Ampah - 11259806\n",
    " - 6.Theoford Nana Gyanfosu - 11303292\n",
    " - 7.Osafo Jayden John Boamah-11252890\n",
    " - 8.Beatrice Sophia Nhyira Yawson- 11151818\n",
    " - 9.Ama Addae Montford - 11034645\n",
    " - 10.Obed Sarkodie - 11041617"
   ]
  },
  {
   "cell_type": "markdown",
   "id": "9b6f5f35-93af-4978-ab4f-f4248e745be3",
   "metadata": {
    "jp-MarkdownHeadingCollapsed": true,
    "slideshow": {
     "slide_type": "slide"
    }
   },
   "source": [
    "## **1.What is Modular Exponentiation?**\n",
    "Modular exponentiation is a method used to compute expressions of the form:\n",
    "  \n",
    "\\[\n",
    "b^e \\mod m\n",
    "\\]\n",
    "\n",
    "This means we raise a base \\(b\\) to an exponent \\(e\\) and then find the remainder when divided by \\(m\\). This method is useful in cryptography and number theory.\n"
   ]
  },
  {
   "cell_type": "code",
   "execution_count": 4,
   "id": "15fe108e-1dc6-4127-9388-af658e6562f0",
   "metadata": {
    "slideshow": {
     "slide_type": "slide"
    },
    "tags": []
   },
   "outputs": [],
   "source": [
    "##function\n",
    "import time\n",
    "start_time = time.time()\n",
    "def modular_exponentiation(base , exponent , mod):\n",
    "  result = 1\n",
    "  base = base % mod # if the base is large\n",
    "\n",
    "  while exponent > 0:\n",
    "        if exponent % 2 == 1:\n",
    "            result = (result * base) % mod\n",
    "        exponent = exponent // 2\n",
    "        base = (base * base) % mod\n",
    "\n",
    "  return result\n"
   ]
  },
  {
   "cell_type": "code",
   "execution_count": 5,
   "id": "d910b245-a844-4c75-81a7-cdcd7574489a",
   "metadata": {
    "slideshow": {
     "slide_type": "subslide"
    }
   },
   "outputs": [
    {
     "data": {
      "text/plain": [
       "36"
      ]
     },
     "execution_count": 5,
     "metadata": {},
     "output_type": "execute_result"
    }
   ],
   "source": [
    "## Testing the Function\n",
    "\n",
    "modular_exponentiation(3, 644, 645)\n"
   ]
  },
  {
   "cell_type": "markdown",
   "id": "76f91ef5-b68d-441a-b5ca-3e7ee85e1535",
   "metadata": {
    "slideshow": {
     "slide_type": "slide"
    }
   },
   "source": [
    "**Direct Computation**\n",
    "- We calculated \\( 7^{121} \\) and then applied modulo 13.\n",
    "- However, this method is inefficient because large numbers can slow down computations.\n"
   ]
  },
  {
   "cell_type": "code",
   "execution_count": 6,
   "id": "240886be-d8f9-4eeb-bc7b-b62ec3466f24",
   "metadata": {
    "slideshow": {
     "slide_type": "subslide"
    }
   },
   "outputs": [
    {
     "data": {
      "text/plain": [
       "7"
      ]
     },
     "execution_count": 6,
     "metadata": {},
     "output_type": "execute_result"
    }
   ],
   "source": [
    "large_number = 7**121\n",
    "mod_result = large_number % 13\n",
    "mod_result\n"
   ]
  },
  {
   "cell_type": "markdown",
   "id": "b1c0b2be-cd86-46e3-85d3-681a4e22efed",
   "metadata": {
    "slideshow": {
     "slide_type": "slide"
    }
   },
   "source": [
    "**Using Modular Exponentiation Function**\n",
    "\n",
    "- This method is more efficient as it reduces large computations step by step.\n"
   ]
  },
  {
   "cell_type": "code",
   "execution_count": 7,
   "id": "9b38af5c-e676-4461-89bc-69a32727e918",
   "metadata": {
    "slideshow": {
     "slide_type": "subslide"
    }
   },
   "outputs": [
    {
     "data": {
      "text/plain": [
       "7"
      ]
     },
     "execution_count": 7,
     "metadata": {},
     "output_type": "execute_result"
    }
   ],
   "source": [
    "modular_exponentiation(7, 121, 13)\n"
   ]
  },
  {
   "cell_type": "markdown",
   "id": "cd546f92-d27c-4559-a950-389e5ef5c109",
   "metadata": {
    "slideshow": {
     "slide_type": "slide"
    }
   },
   "source": [
    "**Using Python’s Built-in pow() Function**\n",
    "\n",
    "- Python provides a built-in function `pow(base, exponent, modulus)`, which is optimized for fast computation.\n"
   ]
  },
  {
   "cell_type": "code",
   "execution_count": 8,
   "id": "4191b3f3-76d2-4ec0-a366-dde0aabeb641",
   "metadata": {
    "slideshow": {
     "slide_type": "subslide"
    }
   },
   "outputs": [
    {
     "data": {
      "text/plain": [
       "7"
      ]
     },
     "execution_count": 8,
     "metadata": {},
     "output_type": "execute_result"
    }
   ],
   "source": [
    "pow(7, 121, 13)  \n"
   ]
  },
  {
   "cell_type": "markdown",
   "id": "d9758dc5-1ed3-41e4-9b0b-a1ff630e0491",
   "metadata": {
    "slideshow": {
     "slide_type": "slide"
    }
   },
   "source": [
    "### Comparing Execution Times\n",
    "We measured the time taken by each method:\n",
    "- **Direct computation**: Very slow due to large number operations.\n",
    "- **Modular exponentiation function**: Faster and more efficient.\n",
    "- **Python’s built-in pow()**: The fastest method, as it is optimized internally.\n"
   ]
  },
  {
   "cell_type": "code",
   "execution_count": 9,
   "id": "1b5e6376-c518-4bc2-9397-37e1d1988ccc",
   "metadata": {
    "slideshow": {
     "slide_type": "slide"
    }
   },
   "outputs": [
    {
     "name": "stdout",
     "output_type": "stream",
     "text": [
      "Method 1 Result: 7, Time: 0.0 seconds\n"
     ]
    }
   ],
   "source": [
    "\n",
    "## Direct computation\n",
    "\n",
    "start_time = time.time()\n",
    "large_number = 7 ** 121  # Compute 7^121 directly\n",
    "result1 = large_number % 13  # Take modulo 13\n",
    "end_time = time.time()\n",
    "print(f\"Method 1 Result: {result1}, Time: {end_time - start_time} seconds\")"
   ]
  },
  {
   "cell_type": "code",
   "execution_count": 10,
   "id": "b8086d5a-07f5-4209-a3db-fc95bad91da3",
   "metadata": {
    "slideshow": {
     "slide_type": "slide"
    }
   },
   "outputs": [
    {
     "name": "stdout",
     "output_type": "stream",
     "text": [
      "Method 2 Result: 7, Time: 0.0 seconds\n"
     ]
    }
   ],
   "source": [
    "### Modular exponentiation function\n",
    "\n",
    "result2_start_time = time.time()\n",
    "result2 = modular_exponentiation(7, 121, 13)  # Use the custom function\n",
    "result2_end_time = time.time()\n",
    "print(f\"Method 2 Result: {result2}, Time: {result2_end_time - result2_start_time} seconds\")"
   ]
  },
  {
   "cell_type": "code",
   "execution_count": 11,
   "id": "83bf872b-0daf-4024-9543-78041d833e07",
   "metadata": {
    "slideshow": {
     "slide_type": "slide"
    }
   },
   "outputs": [
    {
     "name": "stdout",
     "output_type": "stream",
     "text": [
      "Method 3 Result: 7, Time: 0.0 seconds\n"
     ]
    }
   ],
   "source": [
    "## Built-in pow() function\n",
    "\n",
    "start_time = time.time()\n",
    "result3 = pow(7, 121, 13)  # Use Python's built-in pow function\n",
    "end_time = time.time()\n",
    "print(f\"Method 3 Result: {result3}, Time: {end_time - start_time} seconds\")"
   ]
  },
  {
   "cell_type": "markdown",
   "id": "af6b73d4-cb9e-4156-930d-a749165d9249",
   "metadata": {
    "slideshow": {
     "slide_type": "slide"
    }
   },
   "source": [
    "## Conclusion\n",
    "From our experiment, we observed that:\n",
    "- **Direct computation** is the slowest method due to extremely large numbers.\n",
    "- **The modular exponentiation function** is significantly faster, as it reduces the problem step by step.\n",
    "\n"
   ]
  },
  {
   "cell_type": "markdown",
   "id": "50d25309",
   "metadata": {
    "slideshow": {
     "slide_type": "subslide"
    }
   },
   "source": [
    "- **Python’s built-in pow() function** is the fastest method since it is optimized for modular exponentiation."
   ]
  },
  {
   "cell_type": "markdown",
   "id": "a8bdb2bb-9420-4cf6-9d4d-0d577de60abe",
   "metadata": {
    "slideshow": {
     "slide_type": "slide"
    }
   },
   "source": [
    "## **2.Brute Force Factorization of n to find 'p' and 'q'**"
   ]
  },
  {
   "cell_type": "markdown",
   "id": "e3bc9775-e9a3-4f47-83d6-23d88b8b2567",
   "metadata": {
    "slideshow": {
     "slide_type": "slide"
    }
   },
   "source": [
    "### Importing Libraries needed"
   ]
  },
  {
   "cell_type": "code",
   "execution_count": 12,
   "id": "fc0ea422-9d40-4b53-b12f-59e7b7ef6b55",
   "metadata": {
    "slideshow": {
     "slide_type": "subslide"
    }
   },
   "outputs": [],
   "source": [
    "import time\n",
    "import sympy\n",
    "import matplotlib.pyplot as plt\n",
    "import numpy as np"
   ]
  },
  {
   "cell_type": "code",
   "execution_count": 13,
   "id": "98a8ba5e-71c4-4ba3-a519-1e174d8706bd",
   "metadata": {
    "slideshow": {
     "slide_type": "slide"
    }
   },
   "outputs": [],
   "source": [
    "##function\n",
    "def brute_force_factorization(n):\n",
    "    for i in range(2, int(n**0.5) + 1):\n",
    "        if n % i == 0:\n",
    "            return i, n // i\n",
    "            return None, None"
   ]
  },
  {
   "cell_type": "markdown",
   "id": "6ca654f1-f1c5-495c-a62a-5a935faf8b1b",
   "metadata": {
    "slideshow": {
     "slide_type": "slide"
    }
   },
   "source": [
    "**Computing the modular inverse of e modulo phi**"
   ]
  },
  {
   "cell_type": "code",
   "execution_count": 14,
   "id": "07d0b56c-25d8-45d6-a662-4b1fbba2849c",
   "metadata": {
    "slideshow": {
     "slide_type": "subslide"
    }
   },
   "outputs": [],
   "source": [
    "def compute_d(e, phi):\n",
    "    return pow(e, -1, phi)"
   ]
  },
  {
   "cell_type": "markdown",
   "id": "a684c3a5-e42d-4e99-8b10-7ec7d3c5076c",
   "metadata": {
    "slideshow": {
     "slide_type": "slide"
    }
   },
   "source": [
    "**Measuring the time taken to factor pq and compute d**"
   ]
  },
  {
   "cell_type": "code",
   "execution_count": 15,
   "id": "b5ecfed7-665d-4898-9a06-cd525ce89ff0",
   "metadata": {
    "slideshow": {
     "slide_type": "subslide"
    }
   },
   "outputs": [],
   "source": [
    "def measure_rsa_decryption_time(p, q, e):\n",
    "    n = p * q\n",
    "    phi = (p - 1) * (q - 1)\n",
    "\n",
    "    start_factor = time.time()\n",
    "    p_factored, q_factored = brute_force_factorization(n)\n",
    "    end_factor = time.time()\n",
    "\n",
    "    if p_factored is None or q_factored is None:\n",
    "        raise ValueError(\"Factorization failed\")\n",
    "\n",
    "    start_d = time.time()\n",
    "    d = compute_d(e, phi)\n",
    "    end_d = time.time()\n",
    "\n",
    "    return end_factor - start_factor, end_d - start_d "
   ]
  },
  {
   "cell_type": "markdown",
   "id": "d948f344-b40f-4e6a-9aac-1f0335d81650",
   "metadata": {
    "slideshow": {
     "slide_type": "slide"
    }
   },
   "source": [
    "**Compute decryption key d for given p, q, and e**"
   ]
  },
  {
   "cell_type": "code",
   "execution_count": 16,
   "id": "a10007e6-1dd6-4782-95f7-8377caff256d",
   "metadata": {
    "slideshow": {
     "slide_type": "subslide"
    }
   },
   "outputs": [
    {
     "name": "stdout",
     "output_type": "stream",
     "text": [
      "Given p=43, q=59, e=13\n",
      "Computed d = 937\n",
      "Time taken to compute d: 0.000000 sec\n",
      "\n"
     ]
    }
   ],
   "source": [
    "p_given, q_given, e_given = 43, 59, 13\n",
    "n_given = p_given * q_given\n",
    "phi_given = (p_given - 1) * (q_given - 1)\n",
    "\n",
    "start_d_given = time.time()\n",
    "d_given = compute_d(e_given, phi_given)\n",
    "end_d_given = time.time()\n",
    "\n",
    "time_taken_given = end_d_given - start_d_given\n",
    "print(f\"Given p={p_given}, q={q_given}, e={e_given}\")\n",
    "print(f\"Computed d = {d_given}\")\n",
    "print(f\"Time taken to compute d: {time_taken_given:.6f} sec\\n\")"
   ]
  },
  {
   "cell_type": "markdown",
   "id": "81add42f-5ecc-49dd-b616-6818a5a1622b",
   "metadata": {
    "slideshow": {
     "slide_type": "slide"
    }
   },
   "source": [
    "**Selecting Prime Numbers**"
   ]
  },
  {
   "cell_type": "code",
   "execution_count": null,
   "id": "076547f6-ad3d-4b36-9352-a522d4f9fb07",
   "metadata": {
    "slideshow": {
     "slide_type": "subslide"
    }
   },
   "outputs": [],
   "source": [
    "prime_sizes = [4, 6, 8, 10]\n",
    "factor_times = []\n",
    "d_times = []\n",
    "n_values = []\n",
    "e = sympy.prime(100)\n",
    "\n",
    "for size in prime_sizes:\n",
    "    p = sympy.randprime(10**(size-1), 10**size)\n",
    "    q = sympy.randprime(10**(size-1), 10**size)\n",
    "    n = p * q\n",
    "    factor_time, d_time = measure_rsa_decryption_time(p, q, e)\n",
    "    factor_times.append(factor_time)\n",
    "    d_times.append(d_time)\n",
    "    n_values.append(n)"
   ]
  },
  {
   "cell_type": "code",
   "execution_count": null,
   "id": "3e9b7939-573f-4d93-82af-022d6ae1ad95",
   "metadata": {
    "slideshow": {
     "slide_type": "slide"
    }
   },
   "outputs": [],
   "source": [
    "print(\"\\nFinal Results:\")\n",
    "for i, size in enumerate(prime_sizes):\n",
    "    print(f\"Prime size: {size} digits - Factorization Time: {factor_times[i]:.6f} sec, d Computation Time: {d_times[i]:.6f} sec\")"
   ]
  },
  {
   "cell_type": "markdown",
   "id": "88ce3d4c-1857-4548-a763-e9c4af46e5a6",
   "metadata": {
    "slideshow": {
     "slide_type": "slide"
    }
   },
   "source": [
    "#### Graph"
   ]
  },
  {
   "cell_type": "code",
   "execution_count": null,
   "id": "1131fdf5-3017-479b-9309-f34e63802501",
   "metadata": {
    "slideshow": {
     "slide_type": "slide"
    }
   },
   "outputs": [],
   "source": [
    "# Plot results\n",
    "plt.figure(figsize=(10, 5))\n",
    "plt.yscale('log')  # Log scale due to large differences\n",
    "plt.plot(prime_sizes, factor_times, marker='o', label='Factorization Time')\n",
    "plt.plot(prime_sizes, d_times, marker='s', label='d Computation Time')\n",
    "plt.xlabel('Prime Size')\n",
    "plt.ylabel('Time (seconds, log scale)')\n",
    "plt.title('Brute Force Factorization and Decryption Key Computation')\n",
    "plt.legend()\n",
    "plt.grid(True)\n",
    "plt.show()"
   ]
  },
  {
   "cell_type": "markdown",
   "id": "088c760e-60d9-4718-ad3c-5ada5b7a4008",
   "metadata": {
    "slideshow": {
     "slide_type": "slide"
    }
   },
   "source": [
    "## **3.Brute-Force Password Cracking Simulation**\n",
    "\n",
    "This notebook illustrates the process of brute-force password cracking by simulating attempts to discover various password types:\n",
    "\n",
    "*   4-digit numeric codes\n",
    "*   6-digit numeric codes\n",
    "*   4-character alphanumeric passwords (case-sensitive)\n",
    "*   6-character alphanumeric passwords (case-sensitive)\n",
    "\n",
    "**For each scenario, we will:**\n",
    "\n",
    "*  Outline the methodology.\n",
    "*  Provide the Python code.\n",
    "*  Execute tests on 500 randomly generated codes.\n",
    "*  Visualize the distribution of cracking durations."
   ]
  },
  {
   "cell_type": "markdown",
   "id": "f482f674-526b-4579-89d7-7ac93a2a37ca",
   "metadata": {
    "slideshow": {
     "slide_type": "slide"
    }
   },
   "source": [
    "### Importing Libraries needed"
   ]
  },
  {
   "cell_type": "code",
   "execution_count": 1,
   "id": "882a223b-4fbd-482f-b0cf-bd366131e928",
   "metadata": {
    "slideshow": {
     "slide_type": "subslide"
    }
   },
   "outputs": [],
   "source": [
    "import random\n",
    "import time\n",
    "import matplotlib.pyplot as plt\n",
    "import itertools\n",
    "import string\n",
    "\n",
    "%matplotlib inline"
   ]
  },
  {
   "cell_type": "markdown",
   "id": "52b8346a-2e70-4719-bd1a-99d81595fdd3",
   "metadata": {
    "slideshow": {
     "slide_type": "slide"
    }
   },
   "source": [
    "### 4-Digit PIN Brute-Force Cracking\n",
    "\n",
    "- The brute-force cracking of a 4-digit PIN is demonstrated by iterating through all 10,000 possibilities (\"0000\" to \"9999\").\n",
    "- The time taken to discover the correct PIN is recorded.\n",
    "\n",
    "#### This algorithm sequentially generates every 4-digit code from \"0000\" to \"9999\" and checks it against the target.\n"
   ]
  },
  {
   "cell_type": "code",
   "execution_count": 2,
   "id": "c11ff544-a35a-4c37-9e1d-a6c5f7799e22",
   "metadata": {
    "slideshow": {
     "slide_type": "slide"
    }
   },
   "outputs": [],
   "source": [
    "def crack_four_digit_pin(target_pin: str) -> float:\n",
    "  \n",
    "    time_start = time.perf_counter()\n",
    "    for num in range(10000):  # From 0000 to 9999\n",
    "        guess_code = str(num).zfill(4)\n",
    "        if guess_code == target_pin:\n",
    "            break\n",
    "    time_finish = time.perf_counter()\n",
    "    return time_finish - time_start\n",
    "\n",
    "\n"
   ]
  },
  {
   "cell_type": "markdown",
   "id": "109c62b1-81de-4d91-838d-e80a3704a026",
   "metadata": {
    "slideshow": {
     "slide_type": "slide"
    }
   },
   "source": [
    "#### Quick test with a known PIN:\n"
   ]
  },
  {
   "cell_type": "code",
   "execution_count": 3,
   "id": "40fd42c2-2c98-4fc1-bcd9-99b4be36bad4",
   "metadata": {
    "slideshow": {
     "slide_type": "subslide"
    }
   },
   "outputs": [
    {
     "name": "stdout",
     "output_type": "stream",
     "text": [
      "Time to crack 234: 0.004635 seconds\n"
     ]
    }
   ],
   "source": [
    "sample_pin = \"234\"\n",
    "print(f\"Time to crack {sample_pin}: {crack_four_digit_pin(sample_pin):.6f} seconds\")"
   ]
  },
  {
   "cell_type": "code",
   "execution_count": 4,
   "id": "ff2af919-4133-4d18-925f-a0feec4780c7",
   "metadata": {
    "slideshow": {
     "slide_type": "subslide"
    }
   },
   "outputs": [
    {
     "name": "stdout",
     "output_type": "stream",
     "text": [
      "Time to crack 5234: 0.002415 seconds\n"
     ]
    }
   ],
   "source": [
    "sample_pin = \"5234\"\n",
    "print(f\"Time to crack {sample_pin}: {crack_four_digit_pin(sample_pin):.6f} seconds\")"
   ]
  },
  {
   "cell_type": "markdown",
   "id": "97aac69a-f85f-41dd-a1e2-10ee768a9561",
   "metadata": {
    "slideshow": {
     "slide_type": "slide"
    }
   },
   "source": [
    "#### Task: Generate 500 random 4-digit PINs and record the cracking times"
   ]
  },
  {
   "cell_type": "code",
   "execution_count": 5,
   "id": "ddefa465-1272-49be-924d-fda07af8c324",
   "metadata": {
    "slideshow": {
     "slide_type": "subslide"
    }
   },
   "outputs": [],
   "source": [
    "# Generate 500 random 4-digit PINs and record the cracking times\n",
    "time_results_pin4 = []\n",
    "random_pin_list = [str(random.randint(0, 9999)).zfill(4) for _ in range(500)]\n",
    "\n",
    "for pin_code in random_pin_list:\n",
    "    duration = crack_four_digit_pin(pin_code)\n",
    "    time_results_pin4.append(duration)\n",
    "\n",
    "\n"
   ]
  },
  {
   "cell_type": "markdown",
   "id": "535b91a8-8953-44bb-980d-dcf4586baf1f",
   "metadata": {
    "slideshow": {
     "slide_type": "slide"
    }
   },
   "source": [
    "#### Graph"
   ]
  },
  {
   "cell_type": "code",
   "execution_count": 6,
   "id": "400bb4f2-c034-462d-a093-1b362c7e0dd0",
   "metadata": {
    "slideshow": {
     "slide_type": "subslide"
    }
   },
   "outputs": [
    {
     "data": {
      "image/png": "[encoded data removed]",
      "text/plain": [
       "<Figure size 800x400 with 1 Axes>"
      ]
     },
     "metadata": {},
     "output_type": "display_data"
    }
   ],
   "source": [
    "\n",
    "plt.figure(figsize=(8, 4))\n",
    "plt.hist(time_results_pin4, bins=30, edgecolor='black')\n",
    "plt.xlabel(\"Crack Time (seconds)\")\n",
    "plt.ylabel(\"Frequency\")\n",
    "plt.title(\"4-Digit PIN Cracking Times (500 Trials)\")\n",
    "plt.show()"
   ]
  },
  {
   "cell_type": "markdown",
   "id": "da762d78-f657-42f6-93c9-a8b4beb74bb5",
   "metadata": {
    "slideshow": {
     "slide_type": "slide"
    }
   },
   "source": [
    "### 6-Digit PIN Brute-Force Cracking\n",
    "- This algorithm exhaustively searches all 6-digit codes within the range \"000000\" to \"999999\"."
   ]
  },
  {
   "cell_type": "code",
   "execution_count": 7,
   "id": "9add732d-6085-4c96-a273-19016420cbe0",
   "metadata": {
    "slideshow": {
     "slide_type": "slide"
    }
   },
   "outputs": [],
   "source": [
    "##function\n",
    "def crack_six_digit_pin(target_code: str) -> float:\n",
    "  \n",
    "    start_moment = time.perf_counter()\n",
    "    for num in range(1000000):  # From 000000 to 999999\n",
    "        code_guess = str(num).zfill(6)\n",
    "        if code_guess == target_code:\n",
    "            break\n",
    "    end_moment = time.perf_counter()\n",
    "    return end_moment - start_moment\n",
    "\n",
    "\n"
   ]
  },
  {
   "cell_type": "markdown",
   "id": "2f9c327f-76c1-47ad-8761-c538464f2ceb",
   "metadata": {
    "slideshow": {
     "slide_type": "slide"
    }
   },
   "source": [
    "##### Quick test"
   ]
  },
  {
   "cell_type": "code",
   "execution_count": 8,
   "id": "1c266996-7430-4d87-bda6-12d4ec14fc29",
   "metadata": {
    "slideshow": {
     "slide_type": "subslide"
    }
   },
   "outputs": [
    {
     "name": "stdout",
     "output_type": "stream",
     "text": [
      "Time to crack 654321: 0.391168 seconds\n"
     ]
    }
   ],
   "source": [
    "\n",
    "sample_pin6 = \"654321\"\n",
    "print(f\"Time to crack {sample_pin6}: {crack_six_digit_pin(sample_pin6):.6f} seconds\")"
   ]
  },
  {
   "cell_type": "markdown",
   "id": "3eb0927d-3aff-444c-ae7a-bdbee7794ff1",
   "metadata": {
    "slideshow": {
     "slide_type": "slide"
    }
   },
   "source": [
    "### Task\n",
    "\n",
    "- **Generate 500 random 6-digit PINs and measure brute-force cracking times.**\n",
    "- **Plot the distribution of cracking times.**"
   ]
  },
  {
   "cell_type": "code",
   "execution_count": 9,
   "id": "3cd2ca68-6460-4198-95d5-f0f85137b163",
   "metadata": {
    "slideshow": {
     "slide_type": "subslide"
    }
   },
   "outputs": [],
   "source": [
    "time_results_pin6 = []\n",
    "random_pin6_list = [str(random.randint(0, 999999)).zfill(6) for _ in range(500)]\n",
    "\n",
    "for pin_code in random_pin6_list:\n",
    "    duration = crack_six_digit_pin(pin_code)\n",
    "    time_results_pin6.append(duration)"
   ]
  },
  {
   "cell_type": "markdown",
   "id": "0cc199f6-8460-4b9e-94b6-0715417ec8fc",
   "metadata": {
    "slideshow": {
     "slide_type": "slide"
    }
   },
   "source": [
    "#### Graph"
   ]
  },
  {
   "cell_type": "code",
   "execution_count": 10,
   "id": "8c8eed3c-4d42-49f4-bdd1-da8a9f0419c0",
   "metadata": {
    "slideshow": {
     "slide_type": "subslide"
    }
   },
   "outputs": [
    {
     "data": {
      "image/png": "[encoded data removed]",
      "text/plain": [
       "<Figure size 800x400 with 1 Axes>"
      ]
     },
     "metadata": {},
     "output_type": "display_data"
    }
   ],
   "source": [
    "plt.figure(figsize=(8, 4))\n",
    "plt.hist(time_results_pin6, bins=30, edgecolor='black')\n",
    "plt.xlabel(\"Crack Time (seconds)\")\n",
    "plt.ylabel(\"Frequency\")\n",
    "plt.title(\"6-Digit PIN Cracking Times (500 Trials)\")\n",
    "plt.show()"
   ]
  },
  {
   "cell_type": "markdown",
   "id": "2e949243-fdd8-46da-8111-7c0aba64c036",
   "metadata": {
    "slideshow": {
     "slide_type": "slide"
    }
   },
   "source": [
    "###  4-Character Alphanumeric Brute-Force Cracking\n",
    "\n",
    "- This generates every possible 4-character string using a 62-character set (26 uppercase + 26 lowercase + 10 digits).\n"
   ]
  },
  {
   "cell_type": "code",
   "execution_count": 11,
   "id": "5f1655b5-2bd9-4ed8-8941-4c7d70505600",
   "metadata": {
    "slideshow": {
     "slide_type": "slide"
    }
   },
   "outputs": [],
   "source": [
    "##function\n",
    "def crack_alpha4(target_str: str) -> float:\n",
    "    \n",
    "    charset = string.ascii_letters + string.digits\n",
    "    initial_time = time.perf_counter()\n",
    "    for combo in itertools.product(charset, repeat=4):\n",
    "        guess_str = ''.join(combo)\n",
    "        if guess_str == target_str:\n",
    "            break\n",
    "    final_time = time.perf_counter()\n",
    "    return final_time - initial_time\n",
    "\n",
    "\n"
   ]
  },
  {
   "cell_type": "markdown",
   "id": "d8b87d1a-f2f3-42c2-9a59-7c4c88e1046c",
   "metadata": {
    "slideshow": {
     "slide_type": "slide"
    }
   },
   "source": [
    "##### Quick test with a known alphanumeric code:\n"
   ]
  },
  {
   "cell_type": "code",
   "execution_count": 12,
   "id": "63730e2a-496b-4ec6-9438-ea2146365527",
   "metadata": {
    "slideshow": {
     "slide_type": "subslide"
    }
   },
   "outputs": [
    {
     "name": "stdout",
     "output_type": "stream",
     "text": [
      "Time to crack aB3d: 0.049565 seconds\n"
     ]
    }
   ],
   "source": [
    "sample_alpha4 = \"aB3d\"\n",
    "print(f\"Time to crack {sample_alpha4}: {crack_alpha4(sample_alpha4):.6f} seconds\")"
   ]
  },
  {
   "cell_type": "markdown",
   "id": "83fe837a-e4b3-4d3a-ae55-9ae68ef22893",
   "metadata": {
    "slideshow": {
     "slide_type": "slide"
    }
   },
   "source": [
    "### Task:\n",
    "- **Function to generate a random alphanumeric code of a given length**"
   ]
  },
  {
   "cell_type": "code",
   "execution_count": 13,
   "id": "fd22c85d-751f-4b98-8b47-e64501944e1e",
   "metadata": {
    "slideshow": {
     "slide_type": "subslide"
    }
   },
   "outputs": [],
   "source": [
    "def gen_random_alpha_code(length: int) -> str:\n",
    "    charset = string.ascii_letters + string.digits\n",
    "    return ''.join(random.choice(charset) for _ in range(length))\n",
    "\n",
    "# Generate 500 random 4-character alphanumeric codes and record the times\n",
    "time_results_alpha4 = []\n",
    "random_alpha4_list = [gen_random_alpha_code(4) for _ in range(500)]\n",
    "\n",
    "for code_str in random_alpha4_list:\n",
    "    duration = crack_alpha4(code_str)\n",
    "    time_results_alpha4.append(duration)"
   ]
  },
  {
   "cell_type": "markdown",
   "id": "354dd8d7-55cb-47ca-9432-0887315556db",
   "metadata": {
    "slideshow": {
     "slide_type": "slide"
    }
   },
   "source": [
    "#### Graph"
   ]
  },
  {
   "cell_type": "code",
   "execution_count": 14,
   "id": "af57ac38-4c2c-4457-a4de-21cbedab3448",
   "metadata": {
    "slideshow": {
     "slide_type": "subslide"
    }
   },
   "outputs": [
    {
     "data": {
      "image/png": "[encoded data removed]",
      "text/plain": [
       "<Figure size 800x400 with 1 Axes>"
      ]
     },
     "metadata": {},
     "output_type": "display_data"
    }
   ],
   "source": [
    "plt.figure(figsize=(8, 4))\n",
    "plt.hist(time_results_alpha4, bins=30, edgecolor='black')\n",
    "plt.xlabel(\"Crack Time (seconds)\")\n",
    "plt.ylabel(\"Frequency\")\n",
    "plt.title(\"4-Character Alphanumeric Cracking Times (500 Trials)\")\n",
    "plt.show()"
   ]
  },
  {
   "cell_type": "markdown",
   "id": "1b98213f-280b-4a63-8392-0ace97fc5052",
   "metadata": {
    "slideshow": {
     "slide_type": "slide"
    }
   },
   "source": [
    "### 6-Character Alphanumeric Brute-Force Cracking\n",
    "\n",
    "- Because the search space (62^6) is enormous, we include a maximum number of trials (max_trials)\n",
    "to prevent excessive computation during demonstration.\n"
   ]
  },
  {
   "cell_type": "code",
   "execution_count": 15,
   "id": "88718142-9ad2-4ba0-ba35-597789e1a15a",
   "metadata": {
    "slideshow": {
     "slide_type": "subslide"
    }
   },
   "outputs": [],
   "source": [
    "def crack_alpha6(target_str: str, max_trials: int = 1000000) -> float:\n",
    "\n",
    "    charset = string.ascii_letters + string.digits\n",
    "    start_instant = time.perf_counter()\n",
    "    trial_count = 0\n",
    "    for combo in itertools.product(charset, repeat=6):\n",
    "        trial_count += 1\n",
    "        guess_str = ''.join(combo)\n",
    "        if guess_str == target_str or trial_count >= max_trials:\n",
    "            break\n",
    "    end_instant = time.perf_counter()\n",
    "    return end_instant - start_instant\n",
    "\n",
    "\n"
   ]
  },
  {
   "cell_type": "markdown",
   "id": "11d52648-a4b8-4eab-a654-3c5d5c5e2ca8",
   "metadata": {
    "slideshow": {
     "slide_type": "slide"
    }
   },
   "source": [
    "##### Quick test with a sample alphanumeric 6-character code (using the trial cap):\n"
   ]
  },
  {
   "cell_type": "code",
   "execution_count": 16,
   "id": "9ae7ba1d-492d-4b08-8d53-2499478f8b66",
   "metadata": {
    "slideshow": {
     "slide_type": "subslide"
    }
   },
   "outputs": [
    {
     "name": "stdout",
     "output_type": "stream",
     "text": [
      "Time to crack (attempt) Ab3dE1: 1.025132 seconds\n"
     ]
    }
   ],
   "source": [
    "sample_alpha6 = \"Ab3dE1\"\n",
    "print(f\"Time to crack (attempt) {sample_alpha6}: {crack_alpha6(sample_alpha6):.6f} seconds\")"
   ]
  },
  {
   "cell_type": "markdown",
   "id": "03f8e669-3a6c-418b-955b-dfb46a33a310",
   "metadata": {
    "slideshow": {
     "slide_type": "slide"
    }
   },
   "source": [
    "### Task: \n",
    "-  Generate 500 random 6-character alphanumeric codes and record the cracking times (with cap)"
   ]
  },
  {
   "cell_type": "code",
   "execution_count": 17,
   "id": "6716222e-30d1-434f-9874-972d4e70009d",
   "metadata": {
    "slideshow": {
     "slide_type": "subslide"
    }
   },
   "outputs": [],
   "source": [
    "time_results_alpha6 = []\n",
    "random_alpha6_list = [gen_random_alpha_code(6) for _ in range(500)]\n",
    "\n",
    "for code_str in random_alpha6_list:\n",
    "    duration = crack_alpha6(code_str, max_trials=1000000)\n",
    "    time_results_alpha6.append(duration)\n"
   ]
  },
  {
   "cell_type": "markdown",
   "id": "0c68cdc0-8120-40c8-a3c8-82e58cc82196",
   "metadata": {
    "slideshow": {
     "slide_type": "slide"
    }
   },
   "source": [
    "#### Graph"
   ]
  },
  {
   "cell_type": "code",
   "execution_count": 18,
   "id": "81d0c203-b9c3-46ba-830e-d6305e58b383",
   "metadata": {
    "slideshow": {
     "slide_type": "subslide"
    }
   },
   "outputs": [
    {
     "data": {
      "image/png": "[encoded data removed]",
      "text/plain": [
       "<Figure size 800x400 with 1 Axes>"
      ]
     },
     "metadata": {},
     "output_type": "display_data"
    }
   ],
   "source": [
    "\n",
    "plt.figure(figsize=(8, 4))\n",
    "plt.hist(time_results_alpha6, bins=30, edgecolor='black')\n",
    "plt.xlabel(\"Crack Time (seconds)\")\n",
    "plt.ylabel(\"Frequency\")\n",
    "plt.title(\"6-Character Alphanumeric Cracking Times (500 Trials, capped at 1e6 trials)\")\n",
    "plt.show()"
   ]
  },
  {
   "cell_type": "markdown",
   "id": "23c72b98-9ee2-4fcb-8e39-eb88f4d7e70e",
   "metadata": {
    "slideshow": {
     "slide_type": "slide"
    }
   },
   "source": [
    "### Conclusion\n",
    "**This study examined the computational cost of brute-force cracking for various code types:**\n",
    "- 4-digit PINs **(10,000 possibilities)** \n",
    "- 6-digit PINs **(1,000,000 possibilities)** \n",
    "- 4-character alphanumeric codes **(14.7 million combinations)** \n",
    "- 6-character alphanumeric codes **(capped search of 62^6 possibilities)**.                          \n",
    "\n"
   ]
  },
  {
   "cell_type": "markdown",
   "id": "0a814856",
   "metadata": {
    "slideshow": {
     "slide_type": "subslide"
    }
   },
   "source": [
    "**As expected, search time increased dramatically with the search space size, highlighting the vulnerability of simple codes to brute-force attacks.\n",
    " These results emphasize the need for strong passwords and robust cryptographic practices.**"
   ]
  },
  {
   "cell_type": "markdown",
   "id": "f7ed206a",
   "metadata": {
    "slideshow": {
     "slide_type": "slide"
    }
   },
   "source": [
    "# Thank you"
   ]
  }
 ],
 "metadata": {
  "celltoolbar": "Slideshow",
  "kernelspec": {
   "display_name": "Python 3 (ipykernel)",
   "language": "python",
   "name": "python3"
  },
  "language_info": {
   "codemirror_mode": {
    "name": "ipython",
    "version": 3
   },
   "file_extension": ".py",
   "mimetype": "text/x-python",
   "name": "python",
   "nbconvert_exporter": "python",
   "pygments_lexer": "ipython3",
   "version": "3.12.8"
  }
 },
 "nbformat": 4,
 "nbformat_minor": 5
}
