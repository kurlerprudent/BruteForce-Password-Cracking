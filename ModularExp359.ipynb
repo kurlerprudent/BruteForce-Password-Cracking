{
 "cells": [
  {
   "cell_type": "markdown",
   "metadata": {
    "colab_type": "text",
    "id": "view-in-github"
   },
   "source": [
    "<a href=\"https://colab.research.google.com/github/JohnsonSaka123/BruteForce-Password-Cracking/blob/main/ModularExp359.ipynb\" target=\"_parent\"><img src=\"https://colab.research.google.com/assets/colab-badge.svg\" alt=\"Open In Colab\"/></a>"
   ]
  },
  {
   "cell_type": "code",
   "execution_count": 1,
   "metadata": {
    "id": "V1Xjt5Ts7AF9"
   },
   "outputs": [],
   "source": [
    "import time"
   ]
  },
  {
   "cell_type": "code",
   "execution_count": 10,
   "metadata": {
    "id": "mnygm4EV22OM"
   },
   "outputs": [],
   "source": [
    "start_time = time.time()\n",
    "\n",
    "def modular_exponentiation(base , exponent , mod):\n",
    "  result = 1\n",
    "  base = base % mod # if the base is large\n",
    "\n",
    "  while exponent > 0:\n",
    "        if exponent % 2 == 1:\n",
    "            result = (result * base) % mod\n",
    "        exponent = exponent // 2\n",
    "        base = (base * base) % mod\n",
    "\n",
    "  return result\n",
    "\n",
    "\n"
   ]
  },
  {
   "cell_type": "code",
   "execution_count": 11,
   "metadata": {
    "colab": {
     "base_uri": "https://localhost:8080/"
    },
    "id": "SZ28Wu-l7S6O",
    "outputId": "d409ca49-a5b5-4900-a960-6eb91849edd1"
   },
   "outputs": [
    {
     "name": "stdout",
     "output_type": "stream",
     "text": [
      "Method 1 Result: 7, Time: 0.0001480579376220703 seconds\n"
     ]
    }
   ],
   "source": [
    "start_time = time.time()\n",
    "large_number = 7 ** 121  # Compute 7^121 directly\n",
    "result1 = large_number % 13  # Take modulo 13\n",
    "end_time = time.time()\n",
    "print(f\"Method 1 Result: {result1}, Time: {end_time - start_time} seconds\")"
   ]
  },
  {
   "cell_type": "code",
   "execution_count": 12,
   "metadata": {
    "colab": {
     "base_uri": "https://localhost:8080/"
    },
    "id": "Er4XEBcj3EbI",
    "outputId": "b7c4d4fa-c0b9-4ed0-d35f-ecda195b3a63"
   },
   "outputs": [
    {
     "name": "stdout",
     "output_type": "stream",
     "text": [
      "Method 2 Result: 7, Time: 0.00010132789611816406 seconds\n"
     ]
    }
   ],
   "source": [
    "start_time = time.time()\n",
    "result2 = modular_exponentiation(7, 121, 13)  # Use the custom function\n",
    "end_time = time.time()\n",
    "print(f\"Method 2 Result: {result2}, Time: {end_time - start_time} seconds\")"
   ]
  },
  {
   "cell_type": "code",
   "execution_count": 14,
   "metadata": {
    "colab": {
     "base_uri": "https://localhost:8080/"
    },
    "id": "w_GXVqqR4XGY",
    "outputId": "e0cf5904-8842-4aec-d303-e76968f9775e"
   },
   "outputs": [
    {
     "name": "stdout",
     "output_type": "stream",
     "text": [
      "Method 3 Result: 7, Time: 0.00011849403381347656 seconds\n"
     ]
    }
   ],
   "source": [
    "start_time = time.time()\n",
    "result3 = pow(7, 121, 13)  # Use Python's built-in pow function\n",
    "end_time = time.time()\n",
    "print(f\"Method 3 Result: {result3}, Time: {end_time - start_time} seconds\")"
   ]
  },
  {
   "cell_type": "markdown",
   "metadata": {
    "id": "jRv_PuSqsg2o"
   },
   "source": [
    "Based on the time computation: Direct computation takes a longer time than using the defined function."
   ]
  }
 ],
 "metadata": {
  "colab": {
   "authorship_tag": "ABX9TyMknRxM9/YW3kemwV/fWcdj",
   "include_colab_link": true,
   "provenance": []
  },
  "kernelspec": {
   "display_name": "Python 3 (ipykernel)",
   "language": "python",
   "name": "python3"
  },
  "language_info": {
   "codemirror_mode": {
    "name": "ipython",
    "version": 3
   },
   "file_extension": ".py",
   "mimetype": "text/x-python",
   "name": "python",
   "nbconvert_exporter": "python",
   "pygments_lexer": "ipython3",
   "version": "3.12.8"
  }
 },
 "nbformat": 4,
 "nbformat_minor": 4
}
